{
 "cells": [
  {
   "cell_type": "code",
   "execution_count": 1,
   "id": "3083f06c",
   "metadata": {},
   "outputs": [],
   "source": [
    "from sklearn.datasets import load_breast_cancer\n",
    "from sklearn.model_selection import train_test_split\n",
    "from c45 import C45\n",
    "import pandas as pd\n",
    "from sklearn.model_selection import train_test_split\n",
    "from sklearn.metrics import classification_report\n",
    "from sklearn.tree import DecisionTreeClassifier"
   ]
  },
  {
   "cell_type": "code",
   "execution_count": 2,
   "id": "0862b4d6",
   "metadata": {},
   "outputs": [],
   "source": [
    "raw_data = load_breast_cancer()\n",
    "clf = C45(attrNames=raw_data.feature_names)\n",
    "X_train, X_test, y_train, y_test = train_test_split(raw_data.data, raw_data.target, test_size=0.25)\n",
    "c = clf.fit(X_train, y_train)\n",
    "c45_pred = c.predict(X_test)"
   ]
  },
  {
   "cell_type": "code",
   "execution_count": 3,
   "id": "ec2f57b2",
   "metadata": {},
   "outputs": [
    {
     "name": "stdout",
     "output_type": "stream",
     "text": [
      "-----------------------------------------------------\n",
      "C4.5 result\n",
      "-----------------------------------------------------\n",
      "              precision    recall  f1-score   support\n",
      "\n",
      "           0       0.80      0.89      0.84        54\n",
      "           1       0.93      0.87      0.90        89\n",
      "\n",
      "    accuracy                           0.87       143\n",
      "   macro avg       0.86      0.88      0.87       143\n",
      "weighted avg       0.88      0.87      0.88       143\n",
      "\n",
      "-----------------------------------------------------\n",
      "C4.5 Actual vs Predicted\n",
      "-----------------------------------------------------\n",
      "     Actual  Predicted\n",
      "0         1          1\n",
      "1         1          1\n",
      "2         0          0\n",
      "3         1          1\n",
      "4         1          1\n",
      "..      ...        ...\n",
      "138       1          1\n",
      "139       0          0\n",
      "140       1          0\n",
      "141       1          1\n",
      "142       0          1\n",
      "\n",
      "[143 rows x 2 columns]\n",
      "-----------------------------------------------------\n"
     ]
    }
   ],
   "source": [
    "print(\"-----------------------------------------------------\")\n",
    "print(\"C4.5 result\")\n",
    "print(\"-----------------------------------------------------\")\n",
    "print(classification_report(y_test, c45_pred))\n",
    "print(\"-----------------------------------------------------\")\n",
    "print(\"C4.5 Actual vs Predicted\")\n",
    "print(\"-----------------------------------------------------\")\n",
    "print(pd.DataFrame({'Actual': y_test, 'Predicted': c45_pred}))\n",
    "print(\"-----------------------------------------------------\")"
   ]
  },
  {
   "cell_type": "code",
   "execution_count": 4,
   "id": "0f3025b7",
   "metadata": {},
   "outputs": [],
   "source": [
    "CART = DecisionTreeClassifier()\n",
    "CART = CART.fit(X_train,y_train)\n",
    "CART_pred = CART.predict(X_test)"
   ]
  },
  {
   "cell_type": "code",
   "execution_count": 5,
   "id": "28c8ab78",
   "metadata": {},
   "outputs": [
    {
     "name": "stdout",
     "output_type": "stream",
     "text": [
      "CART result\n",
      "-----------------------------------------------------\n",
      "              precision    recall  f1-score   support\n",
      "\n",
      "           0       0.82      0.94      0.88        54\n",
      "           1       0.96      0.88      0.92        89\n",
      "\n",
      "    accuracy                           0.90       143\n",
      "   macro avg       0.89      0.91      0.90       143\n",
      "weighted avg       0.91      0.90      0.90       143\n",
      "\n",
      "-----------------------------------------------------\n",
      "CART Actual vs Predicted\n",
      "-----------------------------------------------------\n",
      "     Actual  Predicted\n",
      "0         1          1\n",
      "1         1          1\n",
      "2         0          0\n",
      "3         1          1\n",
      "4         1          1\n",
      "..      ...        ...\n",
      "138       1          1\n",
      "139       0          0\n",
      "140       1          1\n",
      "141       1          1\n",
      "142       0          0\n",
      "\n",
      "[143 rows x 2 columns]\n",
      "-----------------------------------------------------\n"
     ]
    }
   ],
   "source": [
    "print(\"CART result\")\n",
    "print(\"-----------------------------------------------------\")\n",
    "print(classification_report(y_test, CART_pred))\n",
    "print(\"-----------------------------------------------------\")\n",
    "print(\"CART Actual vs Predicted\")\n",
    "print(\"-----------------------------------------------------\")\n",
    "print(pd.DataFrame({'Actual': y_test, 'Predicted': CART_pred}))\n",
    "print(\"-----------------------------------------------------\")"
   ]
  },
  {
   "cell_type": "code",
   "execution_count": null,
   "id": "2aff780b",
   "metadata": {},
   "outputs": [],
   "source": []
  }
 ],
 "metadata": {
  "kernelspec": {
   "display_name": "Python 3 (ipykernel)",
   "language": "python",
   "name": "python3"
  },
  "language_info": {
   "codemirror_mode": {
    "name": "ipython",
    "version": 3
   },
   "file_extension": ".py",
   "mimetype": "text/x-python",
   "name": "python",
   "nbconvert_exporter": "python",
   "pygments_lexer": "ipython3",
   "version": "3.9.7"
  }
 },
 "nbformat": 4,
 "nbformat_minor": 5
}
